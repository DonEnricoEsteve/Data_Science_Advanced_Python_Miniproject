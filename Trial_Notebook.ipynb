{
 "cells": [
  {
   "cell_type": "markdown",
   "metadata": {},
   "source": [
    "Trial for pushing to GitHub"
   ]
  },
  {
   "cell_type": "markdown",
   "metadata": {},
   "source": [
    "1. cd to directory containing the file to be pushed\n",
    "2. Open terminal in VS Code\n",
    "3. git init\n",
    "4. git add .\n",
    "5. git commit -m FileName\n",
    "\n",
    "In this case, FileName is Esteve_Don_Enrico_P9550217B_Mini_Project_1\n",
    "\n",
    "6. git remote add origin https://github.com/DonEnricoEsteve/Data_Science_Advanced_Python_Miniproject.git\n",
    "7. git push -u -f origin master \n",
    "\n",
    "Can change \"master\" to \"main\"\n",
    "\n",
    "8. Go to GitHub repository to validate the push\n"
   ]
  }
 ],
 "metadata": {
  "language_info": {
   "name": "python"
  }
 },
 "nbformat": 4,
 "nbformat_minor": 2
}
